{
 "cells": [
  {
   "cell_type": "code",
   "execution_count": 1,
   "id": "957955f3",
   "metadata": {},
   "outputs": [
    {
     "name": "stdout",
     "output_type": "stream",
     "text": [
      "\t___calculator___\n"
     ]
    }
   ],
   "source": [
    "import math\n",
    "print(\"\\t___calculator___\")"
   ]
  },
  {
   "cell_type": "code",
   "execution_count": null,
   "id": "d76bd8f1",
   "metadata": {},
   "outputs": [
    {
     "name": "stdout",
     "output_type": "stream",
     "text": [
      "\n",
      "\n",
      "Choose the operation you want to perform: \n",
      "\n",
      "\t1.Addition\n",
      "\n",
      "\t2.Substract\n",
      "\n",
      "\t3.Multiply\n",
      "\n",
      "\t4.Division\n",
      "\n",
      "\t5.Square root\n",
      "\n",
      "\t6.Exit\n",
      ">3\n",
      "\n",
      "\n",
      "Enter the two numbers: \n",
      ">3\n",
      ">4\n",
      "the sum is: 12\n",
      "\n",
      "\n",
      "Choose the operation you want to perform: \n",
      "\n",
      "\t1.Addition\n",
      "\n",
      "\t2.Substract\n",
      "\n",
      "\t3.Multiply\n",
      "\n",
      "\t4.Division\n",
      "\n",
      "\t5.Square root\n",
      "\n",
      "\t6.Exit\n"
     ]
    }
   ],
   "source": [
    "def sum(a,b):\n",
    "    a+=b\n",
    "    return a\n",
    "def sub(a,b):\n",
    "    if a > b:\n",
    "        a-=b\n",
    "        return a\n",
    "    else:\n",
    "        b-=a\n",
    "        return b\n",
    "def mul(a,b):\n",
    "    a*=b\n",
    "    return a\n",
    "def div(a,b):\n",
    "    q=a/b\n",
    "    r=a%b\n",
    "    print(\"\\nThe quotient is: %s\" %q)\n",
    "    print(\"\\nThe reminder is: %s\" %r)\n",
    "def sqr(a):\n",
    "    x=math.sqrt(a)\n",
    "    return x\n",
    "while(True):\n",
    "    print(\"\\n\\nChoose the operation you want to perform: \")\n",
    "    print(\"\\n\\t1.Addition\")\n",
    "    print(\"\\n\\t2.Substract\")\n",
    "    print(\"\\n\\t3.Multiply\")\n",
    "    print(\"\\n\\t4.Division\")\n",
    "    print(\"\\n\\t5.Square root\")\n",
    "    print(\"\\n\\t6.Exit\")\n",
    "    \n",
    "    choice = int(input('>'))\n",
    "    if choice ==1:\n",
    "        print(\"\\n\\nEnter the two numbers: \")\n",
    "        num1 = int(input('>'))\n",
    "        num2 = int(input('>'))\n",
    "        s= sum(num1,num2)\n",
    "        print(\"the sum is: %s\" %s)\n",
    "    elif choice ==2:\n",
    "        print(\"\\n\\nEnter the two numbers: \")\n",
    "        num1 = int(input('>'))\n",
    "        num2 = int(input('>'))\n",
    "        m= sub(num1,num2)\n",
    "        print(\"the sum is: %s\" %m)\n",
    "    elif choice ==3:\n",
    "        print(\"\\n\\nEnter the two numbers: \")\n",
    "        num1 = int(input('>'))\n",
    "        num2 = int(input('>'))\n",
    "        x= mul(num1,num2)\n",
    "        print(\"the sum is: %s\" %x)\n",
    "    elif choice ==4:\n",
    "        print(\"\\n\\nEnter the two numbers: \")\n",
    "        num1 = int(input('>'))\n",
    "        num2 = int(input('>'))\n",
    "        d= div(num1,num2)\n",
    "        print(\"the sum is: %s\" %d)\n",
    "    elif choice ==5:\n",
    "        print(\"\\n\\nEnter the two numbers: \")\n",
    "        num1 = int(input('>'))\n",
    "        num2 = int(input('>'))\n",
    "        sr= sqr(num1,num2)\n",
    "        print(\"the sum is: %s\" %sr)\n",
    "    else:\n",
    "        print(\"Exiting the calculator. Bye..\")\n",
    "        break\n"
   ]
  }
 ],
 "metadata": {
  "kernelspec": {
   "display_name": "Python 3 (ipykernel)",
   "language": "python",
   "name": "python3"
  },
  "language_info": {
   "codemirror_mode": {
    "name": "ipython",
    "version": 3
   },
   "file_extension": ".py",
   "mimetype": "text/x-python",
   "name": "python",
   "nbconvert_exporter": "python",
   "pygments_lexer": "ipython3",
   "version": "3.10.9"
  }
 },
 "nbformat": 4,
 "nbformat_minor": 5
}
